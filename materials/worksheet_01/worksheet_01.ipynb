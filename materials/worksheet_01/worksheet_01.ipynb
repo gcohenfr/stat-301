{
 "cells": [
  {
   "cell_type": "markdown",
   "metadata": {
    "deletable": false,
    "editable": false,
    "nbgrader": {
     "cell_type": "markdown",
     "checksum": "b02a57e78b2fd2065a22451b02acef74",
     "grade": false,
     "grade_id": "cell-a02bfa12010e4d4f",
     "locked": true,
     "schema_version": 3,
     "solution": false,
     "task": false
    }
   },
   "source": [
    "# Worksheet 1: Introduction to Statistical Modelling and Planned Peeking for A/B Testing Optimization"
   ]
  },
  {
   "cell_type": "markdown",
   "metadata": {
    "deletable": false,
    "editable": false,
    "nbgrader": {
     "cell_type": "markdown",
     "checksum": "82fd77927da2aa87b9dfc7b9600034ab",
     "grade": false,
     "grade_id": "cell-0d73a1ef28585e4f",
     "locked": true,
     "schema_version": 3,
     "solution": false,
     "task": false
    }
   },
   "source": [
    "## Welcome to STAT 301: Statistical Modelling for Data Science\n",
    "\n",
    "Each week you will complete a lecture assignment like this one. Before we get started, there are some administrative details.\n",
    "\n",
    "You cannot learn technical subjects without hands-on practice. The weekly lecture worksheets and tutorials are an essential part of the course. Collaborating on lecture worksheets and tutorial assignments is more than okay -- it is encouraged! You should rarely be stuck for more than a few minutes on questions in lecture or tutorial, so ask a neighbour, TA or an instructor for help (explaining things is beneficial, too -- the best way to solidify your knowledge of a subject is to explain it). Please do not just share answers, though. Everyone must submit a copy of their own work.\n",
    "\n",
    "You can read more about course policies on the course website."
   ]
  },
  {
   "cell_type": "markdown",
   "metadata": {
    "deletable": false,
    "editable": false,
    "nbgrader": {
     "cell_type": "markdown",
     "checksum": "4d95401b19f9b383752ca2f6c1a41a85",
     "grade": false,
     "grade_id": "cell-5bf3eac0664df934",
     "locked": true,
     "schema_version": 3,
     "solution": false,
     "task": false
    }
   },
   "source": [
    "## Learning Objectives\n",
    "\n",
    "After completing this week's worksheet and tutorial work, you will be able to:\n",
    "\n",
    "1. Discuss why the methods you have learned in past courses are not sufficient to answer the more complex research problems being posed in this course (in particular, stopping an A/B test early).\n",
    "2. Explain principled peeking and how it can be used for early stopping of an experiment (e.g., A/B testing). \n",
    "3. Write a computer script to perform A/B testing optimization using principled peeking.\n",
    "4. Discuss the limitations of principled peeking for A/B testing optimization/early stopping of experiments."
   ]
  },
  {
   "cell_type": "markdown",
   "metadata": {
    "deletable": false,
    "editable": false,
    "nbgrader": {
     "cell_type": "markdown",
     "checksum": "61a7d8be3a5ee43163f24092c2b693a0",
     "grade": false,
     "grade_id": "cell-aeb5ce9a4b99cc68",
     "locked": true,
     "schema_version": 3,
     "solution": false,
     "task": false
    }
   },
   "source": [
    "## Loading packages"
   ]
  },
  {
   "cell_type": "code",
   "execution_count": null,
   "metadata": {
    "deletable": false,
    "editable": false,
    "nbgrader": {
     "cell_type": "code",
     "checksum": "7723546b978c3c624bb9e90fcf079b87",
     "grade": false,
     "grade_id": "cell-e27b96fe9888ea42",
     "locked": true,
     "schema_version": 3,
     "solution": false,
     "task": false
    }
   },
   "outputs": [],
   "source": [
    "# Run this cell before continuing.\n",
    "library(tidyverse)\n",
    "library(digest)\n",
    "library(testthat)\n",
    "library(infer)\n",
    "library(broom)\n",
    "source(\"tests_worksheet_01.R\")"
   ]
  },
  {
   "cell_type": "markdown",
   "metadata": {
    "deletable": false,
    "editable": false,
    "nbgrader": {
     "cell_type": "markdown",
     "checksum": "faf0502b74c7ad3b198baad8dd2188ae",
     "grade": false,
     "grade_id": "cell-cc58a8d9854a4f68",
     "locked": true,
     "schema_version": 3,
     "solution": false,
     "task": false
    }
   },
   "source": [
    "## 1. Warm Up Questions"
   ]
  },
  {
   "cell_type": "markdown",
   "metadata": {
    "deletable": false,
    "editable": false,
    "nbgrader": {
     "cell_type": "markdown",
     "checksum": "729c7f87fc77769a3d264962a832eb31",
     "grade": false,
     "grade_id": "cell-b4d57371f2cbc50c",
     "locked": true,
     "schema_version": 3,
     "solution": false,
     "task": false
    }
   },
   "source": [
    "**Question 1.0**\n",
    "<br>{points: 1}\n",
    "\n",
    "In DSCI 100, we learned about [6 different types of data analysis questions we can ask and answer](https://ubc-dsci.github.io/introduction-to-datascience/). Moreover, in STAT 201, we reviewed what an inferential question is. Now, it is time to do a more comprehensive exercise to identify what class of data analysis a given real-life question implicates.\n",
    "\n",
    "Below there is a table that lists out various types of data analysis questions on the left column:\n",
    "\n",
    "| **Question** | **Type** |\n",
    "| ------------------------------- | ----------------------- |\n",
    "| Is wearing sunscreen associated with a decreased probability of developing skin cancer in Canada? | `answer1.0.0` |\n",
    "| Is there a relationship between alcohol consumption and socioeconomic status in the 2018 City of Vancouver survey dataset? | `answer1.0.1` |\n",
    "| Does a more concise Google ad lead to an increased number of visits to the advertised company's website? | `answer1.0.2` |\n",
    "| How do changes in human behaviour lead to a reduction in the number of COVID-19 confirmed cases? | `answer1.0.3` |\n",
    "| Does reduced caloric intake cause weight-loss? | `answer1.0.4` |\n",
    "| Do tweets with GIFs get more impressions than tweets that do not? | `answer1.0.5` |\n",
    "| Does including a GIF in tweets lead to more profile visits than tweets that do not include a GIF? | `answer1.0.6` |\n",
    "| How many mentions will my next tweet get? | `answer1.0.7` |\n",
    "| How many accounts are there on Twitter today? | `answer1.0.8` |\n",
    "| Does increasing the contrast in images lead to better visual discrimination of visually impaired image content? | `answer1.0.9` |\n",
    "\n",
    "The right column of the table is empty but should describe one of the following types of statistical question being asked: \n",
    "\n",
    "**A.** Descriptive.\n",
    "\n",
    "**B.** Exploratory.\n",
    "\n",
    "**C.** Inferential.\n",
    "\n",
    "**D.** Predictive.\n",
    "\n",
    "**E.** Causal.\n",
    "\n",
    "**F.** Mechanistic.\n",
    "\n",
    "*Assign your answers to the objects `answer1.0.0`, `answer1.0.1`, `answer1.0.2`, `answer1.0.3`, `answer1.0.4`, `answer1.0.5`, `answer1.0.6`, `answer1.0.7`, `answer1.0.8`, and `answer1.0.9`. Your answer should each be a single character (`\"A\"`, `\"B\"`, `\"C\"`, `\"D\"`, `\"E\"`, or `\"F\"`) surrounded by quotes.*"
   ]
  },
  {
   "cell_type": "code",
   "execution_count": null,
   "metadata": {
    "deletable": false,
    "nbgrader": {
     "cell_type": "code",
     "checksum": "a7e1a464048f0a97ab7d5d411fbd9436",
     "grade": false,
     "grade_id": "cell-32425b1a7c5f425e",
     "locked": false,
     "schema_version": 3,
     "solution": true,
     "task": false
    }
   },
   "outputs": [],
   "source": [
    "# answer1.0.0 <- ...\n",
    "# answer1.0.1 <- ...\n",
    "# answer1.0.2 <- ...\n",
    "# answer1.0.3 <- ...\n",
    "# answer1.0.4 <- ...\n",
    "# answer1.0.5 <- ...\n",
    "# answer1.0.6 <- ...\n",
    "# answer1.0.7 <- ...\n",
    "# answer1.0.8 <- ...\n",
    "# answer1.0.9 <- ...\n",
    "\n",
    "# your code here\n",
    "fail() # No Answer - remove if you provide an answer"
   ]
  },
  {
   "cell_type": "code",
   "execution_count": null,
   "metadata": {
    "deletable": false,
    "editable": false,
    "nbgrader": {
     "cell_type": "code",
     "checksum": "c24b1ce2e4123c54333ab09cdd6801be",
     "grade": true,
     "grade_id": "cell-a7d30c68ee0fb4fa",
     "locked": true,
     "points": 1,
     "schema_version": 3,
     "solution": false,
     "task": false
    }
   },
   "outputs": [],
   "source": [
    "test_1.0()"
   ]
  },
  {
   "cell_type": "markdown",
   "metadata": {
    "deletable": false,
    "editable": false,
    "nbgrader": {
     "cell_type": "markdown",
     "checksum": "890cbe1fbb4996046d734076d890b671",
     "grade": false,
     "grade_id": "cell-621bbe7ae3c7080b",
     "locked": true,
     "schema_version": 3,
     "solution": false,
     "task": false
    }
   },
   "source": [
    "**Question 1.1**\n",
    "<br>{points: 1}\n",
    "\n",
    "We must have language/terminology that we can use to discuss concepts related to experimentation and causal inference, as in A/B testing. It takes time and practice to commit these terms and corresponding definitions to our memory to use them fluidly in practice. Let us get some more training by matching language/terminology with their definitions.\n",
    "\n",
    "Read the table below and assign the correct term on the right column.\n",
    "\n",
    "| **Defintion** | **Term** |\n",
    "| ------------------------------- | ----------------------- |\n",
    "| Technique to investigate effects of several variables in one study; experimental units are assigned to all possible combinations of factors. | `answer1.1.0` |\n",
    "| Explanatory variable manipulated by the experimenter. | `answer1.1.1` |\n",
    "| The entity/object in the sample that is assigned to a treatment and for which information is collected. | `answer1.1.2` |\n",
    "| Repetition of an experimental treatment. | `answer1.1.3` |\n",
    "| Equal number of experimental units for each treatment group. | `answer1.1.4` |\n",
    "| Process of randomly assigning explanatory variable(s) of interest to experimental units | `answer1.1.5` |\n",
    "| A combination of factor levels. | `answer1.1.6` |\n",
    "| Statistically comparing a key performance indicator (conversion rate, dwell time, etc.) between two versions of a webpage/app/add to assess which one performs better. | `answer1.1.7` |\n",
    "\n",
    "*Assign your answers to the objects  `answer1.1.0`, `answer1.1.1`, `answer1.1.2`, `answer1.1.3`, `answer1.1.4`, `answer1.1.5`, `answer1.1.6`, and `answer1.1.7`. Your answer should each be a single string (`\"randomization\"`, `\"A/B testing\"`, `\"treatment\"`, `\"factor\"`, `\"experimental unit\"`, `\"replicate\"`, `\"balanced design\"`, and `\"factorial design\"`) surrounded by quotes.*"
   ]
  },
  {
   "cell_type": "code",
   "execution_count": null,
   "metadata": {
    "deletable": false,
    "nbgrader": {
     "cell_type": "code",
     "checksum": "62ea64e2502d67dee57bda43ca6cdf76",
     "grade": false,
     "grade_id": "cell-236f4aa02bea2707",
     "locked": false,
     "schema_version": 3,
     "solution": true,
     "task": false
    }
   },
   "outputs": [],
   "source": [
    "# answer1.1.0 <- ...\n",
    "# answer1.1.1 <- ...\n",
    "# answer1.1.2 <- ...\n",
    "# answer1.1.3 <- ...\n",
    "# answer1.1.4 <- ...\n",
    "# answer1.1.5 <- ...\n",
    "# answer1.1.6 <- ...\n",
    "# answer1.1.7 <- ...\n",
    "\n",
    "# your code here\n",
    "fail() # No Answer - remove if you provide an answer"
   ]
  },
  {
   "cell_type": "code",
   "execution_count": null,
   "metadata": {
    "deletable": false,
    "editable": false,
    "nbgrader": {
     "cell_type": "code",
     "checksum": "70836f7cf1ec41f35aefa4fc8fbc3012",
     "grade": true,
     "grade_id": "cell-368d4fd2eb6ee426",
     "locked": true,
     "points": 1,
     "schema_version": 3,
     "solution": false,
     "task": false
    }
   },
   "outputs": [],
   "source": [
    "test_1.1()"
   ]
  },
  {
   "cell_type": "markdown",
   "metadata": {
    "deletable": false,
    "editable": false,
    "nbgrader": {
     "cell_type": "markdown",
     "checksum": "322f10bb0514e93fa2779151f4061ec8",
     "grade": false,
     "grade_id": "cell-0d387880ffd69e7c",
     "locked": true,
     "schema_version": 3,
     "solution": false,
     "task": false
    }
   },
   "source": [
    "## 2. Introduction to Statistical Modelling for A/B Testing Optimization\n",
    "\n",
    "In A/B testing optimization, we are trying to compare the parameters of two populations. The parameter being compared can vary depending on the problem. For example, you could be interested in the proportion of website visitors who register for the newsletter. Or, you could be interested in the average amount of money spent by each visitor. Naturally, the statistical analysis will change depending on the parameters being tested (remember the different formulae for hypothesis testing using CLT you learned in STAT 201?). \n",
    "\n",
    "Suppose a company's marketing team has developed a new video for their TikTok ad. They want to know if this **new** ad will increase the ad engagement (which they will measure via *ad dwell time* in seconds, i.e., a continuous response) compared to the **current** ad they are currently running.\n",
    "\n",
    "<div>\n",
    "    <img src=\"attachment:image.png\" width=\"600px\"/>\n",
    "</div>"
   ]
  },
  {
   "cell_type": "markdown",
   "metadata": {
    "deletable": false,
    "editable": false,
    "nbgrader": {
     "cell_type": "markdown",
     "checksum": "b32585c1c9a26775e9dc9beca6bb2cdd",
     "grade": false,
     "grade_id": "cell-7318c2f14a2cde30",
     "locked": true,
     "schema_version": 3,
     "solution": false,
     "task": false
    }
   },
   "source": [
    "**Question 2.0**\n",
    "<br>{points: 1}\n",
    "\n",
    "The null hypothesis, $H_0$, generally refers to the status quo, i.e., there is no change in ad engagement. Let $\\mu_{\\text{new}}$ and $\\mu_{\\text{current}}$ be the mean dwell times of the new and current ads, respectively. What is the null hypothesis we are testing?\n",
    "\n",
    "**A.** $H_0: \\mu_{\\text{new}} > \\mu_{\\text{current}}$\n",
    "\n",
    "**B.** $H_0: \\mu_{\\text{new}} < \\mu_{\\text{current}}$\n",
    "\n",
    "**C.** $H_0: \\mu_{\\text{new}} = \\mu_{\\text{current}}$\n",
    "\n",
    "**D.** $H_0: \\mu_{\\text{new}} \\neq \\mu_{\\text{current}}$\n",
    "\n",
    "*Assign your answer to an object called `answer2.0`. Your answer should be one of `\"A\"`, `\"B\"`, `\"C\"`, or `\"D\"` surrounded by quotes.*"
   ]
  },
  {
   "cell_type": "code",
   "execution_count": null,
   "metadata": {
    "deletable": false,
    "nbgrader": {
     "cell_type": "code",
     "checksum": "bf3ef0b3a5766cb84a02364bcba84a3c",
     "grade": false,
     "grade_id": "cell-7ecc236445c7eb51",
     "locked": false,
     "schema_version": 3,
     "solution": true,
     "task": false
    }
   },
   "outputs": [],
   "source": [
    "# answer2.0 <- \n",
    "\n",
    "# your code here\n",
    "fail() # No Answer - remove if you provide an answer"
   ]
  },
  {
   "cell_type": "code",
   "execution_count": null,
   "metadata": {
    "deletable": false,
    "editable": false,
    "nbgrader": {
     "cell_type": "code",
     "checksum": "31b4ad65e169c292ed6f4235580fde08",
     "grade": true,
     "grade_id": "cell-e87619d27208480a",
     "locked": true,
     "points": 0,
     "schema_version": 3,
     "solution": false,
     "task": false
    }
   },
   "outputs": [],
   "source": [
    "test_2.0()"
   ]
  },
  {
   "cell_type": "markdown",
   "metadata": {
    "deletable": false,
    "editable": false,
    "nbgrader": {
     "cell_type": "markdown",
     "checksum": "c04ef6dfcd947dd592ed994033e35645",
     "grade": false,
     "grade_id": "cell-6514c7af494f23f4",
     "locked": true,
     "schema_version": 3,
     "solution": false,
     "task": false
    }
   },
   "source": [
    "**Question 2.1**\n",
    "<br>{points: 1}\n",
    "\n",
    "The alternative hypothesis, $H_1$, generally refers to the researcher's hypothesis of interest, i.e., the new ad increases the ad engagement. Let $\\mu_{\\text{new}}$ and $\\mu_{\\text{current}}$ be the mean dwell times of the new and current ads, respectively. What is the alternative hypothesis we are testing?\n",
    "\n",
    "**A.** $H_1: \\mu_{\\text{new}} > \\mu_{\\text{current}}$\n",
    "\n",
    "**B.** $H_1: \\mu_{\\text{new}} < \\mu_{\\text{current}}$\n",
    "\n",
    "**C.** $H_1: \\mu_{\\text{new}} = \\mu_{\\text{current}}$\n",
    "\n",
    "**D.** $H_1: \\mu_{\\text{new}} \\neq \\mu_{\\text{current}}$\n",
    "\n",
    "*Assign your answer to an object called `answer2.1`. Your answer should be one of `\"A\"`, `\"B\"`, `\"C\"`, or `\"D\"` surrounded by quotes.*"
   ]
  },
  {
   "cell_type": "code",
   "execution_count": null,
   "metadata": {
    "deletable": false,
    "nbgrader": {
     "cell_type": "code",
     "checksum": "0779a0545e2492fb93614b8437882873",
     "grade": false,
     "grade_id": "cell-c8f93b0b8697559e",
     "locked": false,
     "schema_version": 3,
     "solution": true,
     "task": false
    }
   },
   "outputs": [],
   "source": [
    "# answer2.1 <- \n",
    "\n",
    "# your code here\n",
    "fail() # No Answer - remove if you provide an answer"
   ]
  },
  {
   "cell_type": "code",
   "execution_count": null,
   "metadata": {
    "deletable": false,
    "editable": false,
    "nbgrader": {
     "cell_type": "code",
     "checksum": "6fcc011c23c10a8d7ced4fae12e793f0",
     "grade": true,
     "grade_id": "cell-2702121d08830d62",
     "locked": true,
     "points": 0,
     "schema_version": 3,
     "solution": false,
     "task": false
    }
   },
   "outputs": [],
   "source": [
    "test_2.1()"
   ]
  },
  {
   "cell_type": "markdown",
   "metadata": {
    "deletable": false,
    "editable": false,
    "nbgrader": {
     "cell_type": "markdown",
     "checksum": "972efb1f16af1fee86b370e3d2f04a00",
     "grade": false,
     "grade_id": "cell-75c04d0e11b0ff23",
     "locked": true,
     "schema_version": 3,
     "solution": false,
     "task": false
    }
   },
   "source": [
    "**Question 2.2**\n",
    "<br>{points: 1}\n",
    "\n",
    "The company would like to run an experiment on TikTok users in the age demographic most of their customers fall (between 16 and 24 years old). They would randomize a sample of $n = 2000$ TikTok users to view one of the two ads. The sample will be split by half, i.e., $n_{\\text{current}} = n_{\\text{new}} = 1000$.\n",
    "\n",
    "Once the data is collected, we will need to conduct a specific statistical analysis. This analysis will depend on the nature of our response and on the approach we want to use, Bootstrapping or Central Limit Theorem. If we opt for using the CLT to conduct the analysis, what is the specific test we need to perform?\n",
    "\n",
    "**A.** One-sample $z$-test. \n",
    "\n",
    "**B.** One-sample $t$-test.\n",
    "\n",
    "**C.** Two-sample $z$-test.\n",
    "\n",
    "**D.** Two-sample $t$-test.\n",
    "\n",
    "**E.** Two-way ANOVA.\n",
    "\n",
    "*Assign your answer to an object called `answer2.2`. Your answer should be one of `\"A\"`, `\"B\"`, `\"C\"`, `\"D\"`, or `\"E\"` surrounded by quotes.*"
   ]
  },
  {
   "cell_type": "code",
   "execution_count": null,
   "metadata": {
    "deletable": false,
    "nbgrader": {
     "cell_type": "code",
     "checksum": "89811fc7b9b29ed157da6955d8bf5795",
     "grade": false,
     "grade_id": "cell-6cbbbc030de4eb0e",
     "locked": false,
     "schema_version": 3,
     "solution": true,
     "task": false
    }
   },
   "outputs": [],
   "source": [
    "# answer2.2 <- \n",
    "\n",
    "# your code here\n",
    "fail() # No Answer - remove if you provide an answer"
   ]
  },
  {
   "cell_type": "code",
   "execution_count": null,
   "metadata": {
    "deletable": false,
    "editable": false,
    "nbgrader": {
     "cell_type": "code",
     "checksum": "37e70e88ccfbf949207ce8b6e8bace8a",
     "grade": true,
     "grade_id": "cell-09da56b704bb0911",
     "locked": true,
     "points": 0,
     "schema_version": 3,
     "solution": false,
     "task": false
    }
   },
   "outputs": [],
   "source": [
    "test_2.2()"
   ]
  },
  {
   "cell_type": "markdown",
   "metadata": {
    "deletable": false,
    "editable": false,
    "nbgrader": {
     "cell_type": "markdown",
     "checksum": "ab13402db7ca0c94843f9ae882ad4dd4",
     "grade": false,
     "grade_id": "cell-0f87910937bf43b3",
     "locked": true,
     "schema_version": 3,
     "solution": false,
     "task": false
    }
   },
   "source": [
    "In practice, we would run an A/B testing by drawing a sample of size of $n$ experimental units (i.e., subjects) from the population. Then, we split the subjects in the sample in such a way that some of the subjects will receive one of the treatments (in this case, they will see the current ad) and the remaining subjects will receive the other treatment (in this case, the will see the new ad). However, since in practice we never know the truth, in this exercise we are going to use simulated data to explore the behavior of our inference methods.\n",
    "\n",
    "Suppose we have one million TikTok users who are between 16 and 24 years old. The object `tiktok_pop` stores the dwell time (in seconds) of each user for the current ad (`dwell_time_current_ad`) and for the new ad (`dwell_time_new_ad`)."
   ]
  },
  {
   "cell_type": "code",
   "execution_count": null,
   "metadata": {
    "deletable": false,
    "editable": false,
    "nbgrader": {
     "cell_type": "code",
     "checksum": "99aa453526d3e7294e80933ec4a55772",
     "grade": false,
     "grade_id": "cell-c12a23187b38745d",
     "locked": true,
     "schema_version": 3,
     "solution": false,
     "task": false
    }
   },
   "outputs": [],
   "source": [
    "# run this cell before continuing\n",
    "tiktok_pop <-\n",
    "    read_csv(\"data/tiktok_pop.csv\")\n",
    "\n",
    "head(tiktok_pop)"
   ]
  },
  {
   "cell_type": "markdown",
   "metadata": {
    "deletable": false,
    "editable": false,
    "nbgrader": {
     "cell_type": "markdown",
     "checksum": "7bd902d1dbe52c898e841cb0f6a50543",
     "grade": false,
     "grade_id": "cell-9d7c7a1eaa2567ef",
     "locked": true,
     "schema_version": 3,
     "solution": false,
     "task": false
    }
   },
   "source": [
    "**Question 2.3**\n",
    "<br>{points: 1}\n",
    "\n",
    "Calculate the true mean and true standard deviation of dwell time for both ads. \n",
    "\n",
    "_Save the result in a tibble called `tiktok_true_params`. The tibble should have four columns: `mean_current_ad`, `sd_currnt_ad`, `mean_new_ad`, and `sd_new_ad`."
   ]
  },
  {
   "cell_type": "code",
   "execution_count": null,
   "metadata": {
    "deletable": false,
    "nbgrader": {
     "cell_type": "code",
     "checksum": "b5504c9fcfc91d4d3e27786db7d0ace5",
     "grade": false,
     "grade_id": "cell-abf646cc27ddbb5b",
     "locked": false,
     "schema_version": 3,
     "solution": true,
     "task": false
    }
   },
   "outputs": [],
   "source": [
    "# tiktok_true_params <- \n",
    "#     ... %>% \n",
    "#     ...(mean_current_ad = ...,\n",
    "#               sd_current_ad = ...,\n",
    "#               mean_new_ad = ...,\n",
    "#               sd_new_ad = ...)\n",
    "\n",
    "\n",
    "# your code here\n",
    "fail() # No Answer - remove if you provide an answer\n",
    "\n",
    "tiktok_true_params"
   ]
  },
  {
   "cell_type": "code",
   "execution_count": null,
   "metadata": {
    "deletable": false,
    "editable": false,
    "nbgrader": {
     "cell_type": "code",
     "checksum": "1f2ad75cea61ae8bf0d6991d099f5237",
     "grade": true,
     "grade_id": "cell-3c81a4df0549907f",
     "locked": true,
     "points": 1,
     "schema_version": 3,
     "solution": false,
     "task": false
    }
   },
   "outputs": [],
   "source": [
    "test_2.3()"
   ]
  },
  {
   "cell_type": "markdown",
   "metadata": {
    "deletable": false,
    "editable": false,
    "nbgrader": {
     "cell_type": "markdown",
     "checksum": "77fa5fef26653042629901d74a3441ee",
     "grade": false,
     "grade_id": "cell-4a2554c8189573cb",
     "locked": true,
     "schema_version": 3,
     "solution": false,
     "task": false
    }
   },
   "source": [
    "**Question 2.4**\n",
    "<br>{points: 1}\n",
    "\n",
    "Although in the previous exercise we had access to the population, and true parameters, this is not the case in practice!! Let's see how things actually work in practice. \n",
    "Here's what you need to do:\n",
    "\n",
    "1. Take one sample of size 200 users from the population. \n",
    "2. The first 100 users in our sample will watch the current ad, and the remaining will watch the new ad. \n",
    "\n",
    "*Save the sample in a tibble called `tiktok_sample`. The tibble should have three columns: `user`, `ad_watched`, and `dwell_time`.*"
   ]
  },
  {
   "cell_type": "code",
   "execution_count": null,
   "metadata": {
    "deletable": false,
    "nbgrader": {
     "cell_type": "code",
     "checksum": "dc12e11b6e5c989764718f4d2b9ee4a8",
     "grade": false,
     "grade_id": "cell-43e62496f5dc953c",
     "locked": false,
     "schema_version": 3,
     "solution": true,
     "task": false
    }
   },
   "outputs": [],
   "source": [
    "set.seed(432121) # do not change this!\n",
    "\n",
    "# tiktok_sample <-\n",
    "#     ...%>% \n",
    "#     rep_sample_n(...) %>% \n",
    "#     ungroup() %>% \n",
    "#     mutate(row = row_number(),\n",
    "#            ad_watched = if_else(row <= ..., \"current\", \"new\"),\n",
    "#            dwell_time = if_else(row <= 100, dwell_time_current_ad, dwell_time_new_ad)) %>% \n",
    "#     select(...)\n",
    "\n",
    "# your code here\n",
    "fail() # No Answer - remove if you provide an answer\n",
    "\n",
    "head(tiktok_sample)"
   ]
  },
  {
   "cell_type": "code",
   "execution_count": null,
   "metadata": {
    "deletable": false,
    "editable": false,
    "nbgrader": {
     "cell_type": "code",
     "checksum": "bf3b64317d1f36a68af824695f83dff8",
     "grade": true,
     "grade_id": "cell-42f1304ebc0999e0",
     "locked": true,
     "points": 1,
     "schema_version": 3,
     "solution": false,
     "task": false
    }
   },
   "outputs": [],
   "source": [
    "test_2.4()"
   ]
  },
  {
   "cell_type": "markdown",
   "metadata": {
    "deletable": false,
    "editable": false,
    "nbgrader": {
     "cell_type": "markdown",
     "checksum": "d70701acb2160a528f97bdf90ff0cc6c",
     "grade": false,
     "grade_id": "cell-0452859395858fe8",
     "locked": true,
     "schema_version": 3,
     "solution": false,
     "task": false
    }
   },
   "source": [
    "**Question 2.5**\n",
    "<br>{points: 1}\n",
    "\n",
    "Once we have collected our experimental samples for both treatments, it is time to conduct the statistical analysis. However, before testing the hypothesis, it is always good to graphically compare the distributions and spread in both samples of dwell times.\n",
    "\n",
    "Make the side-by-side plot of the boxplots of each sample distribution, `current` and `new`, stored in the `ad_watched` column. Since boxplot does not show the mean value, let's add a point on top of each boxplot to represent the mean. The function `stat_summary()` can help with that. \n",
    "\n",
    "*Store the plot in a object named `dwell_time_boxplots`.*"
   ]
  },
  {
   "cell_type": "code",
   "execution_count": null,
   "metadata": {
    "deletable": false,
    "nbgrader": {
     "cell_type": "code",
     "checksum": "af2b6e1441076cd3380470c13ff9eab7",
     "grade": false,
     "grade_id": "cell-be69159e72b271f6",
     "locked": false,
     "schema_version": 3,
     "solution": true,
     "task": false
    }
   },
   "outputs": [],
   "source": [
    "options(repr.plot.width = 15, repr.plot.height = 9) # Adjust these numbers so the plot looks good in your desktop.\n",
    "\n",
    "# dwell_time_boxplots <- \n",
    "#    ... %>%\n",
    "#   ggplot() +\n",
    "#   ...(aes(..., ..., fill = ...)) +\n",
    "#   theme(\n",
    "#     text = element_text(size = 22),\n",
    "#     plot.title = element_text(face = \"bold\"),\n",
    "#     axis.title = element_text(face = \"bold\")\n",
    "#   ) +\n",
    "#   ggtitle(...) +\n",
    "#   xlab(...) +\n",
    "#   ylab(...) +\n",
    "#   guides(fill = FALSE) +\n",
    "#   stat_summary(aes(..., ..., fill = ...),\n",
    "#     fun = ..., colour = \"yellow\", geom = \"point\",\n",
    "#     shape = 18, size = 5\n",
    "#   )\n",
    "\n",
    "# your code here\n",
    "fail() # No Answer - remove if you provide an answer\n",
    "\n",
    "dwell_time_boxplots"
   ]
  },
  {
   "cell_type": "code",
   "execution_count": null,
   "metadata": {
    "deletable": false,
    "editable": false,
    "nbgrader": {
     "cell_type": "code",
     "checksum": "d685e1709a56bee098407623e67dda1c",
     "grade": true,
     "grade_id": "cell-8de900a718d70179",
     "locked": true,
     "points": 1,
     "schema_version": 3,
     "solution": false,
     "task": false
    }
   },
   "outputs": [],
   "source": [
    "test_2.5()"
   ]
  },
  {
   "cell_type": "markdown",
   "metadata": {
    "deletable": false,
    "editable": false,
    "nbgrader": {
     "cell_type": "markdown",
     "checksum": "1aceb275ea6d9fa37e07a18a4ccd5e57",
     "grade": false,
     "grade_id": "cell-dcbb5b6b07f92841",
     "locked": true,
     "schema_version": 3,
     "solution": false,
     "task": false
    }
   },
   "source": [
    "**Question 2.6**\n",
    "<br>{points: 1}\n",
    "\n",
    "Based on your findings in **Question 2.5**, what can you conclude on the sampled data behaviour?\n",
    "\n",
    "**A.** The current ad's median and mean are higher than the new ad's ones. Moreover, both data spreads are quite similar.\n",
    "\n",
    "**C.** The new ad's median and mean are significantly higher than the current ad's ones. Moreover, both data spreads are quite similar.\n",
    "\n",
    "**D.** The new ad's median and mean seems to be higher than the current ad's ones. However, there's the possibility that this difference is due to sampling variability. Both data spreads are quite similar.\n",
    "\n",
    "**E.** The new ad's median and mean are significantly higher than the current ad's ones. Moreover, the data spreads are quite different by treatment.\n",
    "\n",
    "*Assign your answer to an object called `answer2.6`. Your answer should be one of `\"A\"`, `\"B\"`, `\"C\"`, `\"D\"`, or `\"E\"` surrounded by quotes.*"
   ]
  },
  {
   "cell_type": "code",
   "execution_count": null,
   "metadata": {
    "deletable": false,
    "nbgrader": {
     "cell_type": "code",
     "checksum": "ed7d34520dcae52540929d1ed6d6f7b7",
     "grade": false,
     "grade_id": "cell-d4ba374dc97c6b9f",
     "locked": false,
     "schema_version": 3,
     "solution": true,
     "task": false
    }
   },
   "outputs": [],
   "source": [
    "# answer2.6 <- \n",
    "\n",
    "# your code here\n",
    "fail() # No Answer - remove if you provide an answer"
   ]
  },
  {
   "cell_type": "code",
   "execution_count": null,
   "metadata": {
    "deletable": false,
    "editable": false,
    "nbgrader": {
     "cell_type": "code",
     "checksum": "a6803c84764086335cfd14996626fee8",
     "grade": true,
     "grade_id": "cell-8e546e56e69fea8d",
     "locked": true,
     "points": 1,
     "schema_version": 3,
     "solution": false,
     "task": false
    }
   },
   "outputs": [],
   "source": [
    "test_2.6()"
   ]
  },
  {
   "cell_type": "markdown",
   "metadata": {},
   "source": [
    "**Question 2.7**\n",
    "<br>{points: 1}\n",
    "\n",
    "The previous plot indicates that the new ad's mean is higher than the current ad's one. Nonetheless, given the variations found in each treatment's dwell times, how likely would it be for us to see a sample difference at least as extreme as the observed one *if there were no difference in means*? In other words, is the observed difference statistically significant? \n",
    "\n",
    "Recall that the company wants to know whether this new ad will increase the population's ad engagement compared to the current ad. The hypotheses were already defined in **Questions 2.0** and **2.1**. Now, let us define the test statistic we will need to conduct this test:\n",
    "\n",
    "$$\n",
    "T = \\frac{\\bar{x}_{\\text{new}} - \\bar{x}_{\\text{current}}}{\\sqrt{\\frac{s^2_{\\text{new}}}{n_{\\text{new}}}+\\frac{s^2_{\\text{current}}}{n_{\\text{current}}}}}\n",
    "$$\n",
    "\n",
    "where $\\bar{x}_{\\text{new}}$ and $\\bar{x}_{\\text{current}}$ are the sample means of the dwell times for the new and current ads, respectively; $s^2_{\\text{new}}$ and $s^2_{\\text{current}}$ are the sample variances for the new and current ads, respectively; and $n_{\\text{new}}$ and $n_{\\text{current}}$ is the sample size for new and current ads, respectively. \n",
    "\n",
    "Furthermore, under the null hypothesis $H_0$, the $T$ statistic follows a $t$ distribution with approximately\n",
    "\n",
    "$$\n",
    "\\nu = \\frac{\n",
    "    \\left(\\frac{s_{\\text{new}}^2}{n_\\text{new}}+\\frac{s_{\\text{current}}^2}{n_\\text{current}}\\right)^2\n",
    "}\n",
    "{\n",
    "\\frac{s_{\\text{new}}^4}{n_{\\text{new}}^2(n_{\\text{new}}-1)}+\\frac{s_{\\text{current}}^2}{n_{\\text{current}}^2(n_{\\text{current}}-1)}\n",
    "}\n",
    "$$\n",
    "\n",
    "degrees of freedom. Use the corresponding `R` function to automatically obtain all these calculations. Make sure to use `broom::tidy()` to get a more organized result.\n",
    "\n",
    "*Fill out those parts indicated with `...`, uncomment the corresponding code in the cell below, and run it. Assign your answer to an object called `answer2.7`.*"
   ]
  },
  {
   "cell_type": "code",
   "execution_count": null,
   "metadata": {
    "deletable": false,
    "nbgrader": {
     "cell_type": "code",
     "checksum": "80773484a2758899c8a74cac7c7b873b",
     "grade": false,
     "grade_id": "cell-d78bb6df1d2c39b9",
     "locked": false,
     "schema_version": 3,
     "solution": true,
     "task": false
    }
   },
   "outputs": [],
   "source": [
    "# answer2.7 <- tidy(...(\n",
    "#   x = ...,\n",
    "#   y = ...,\n",
    "#   alternative = ...,\n",
    "#   var.equal = ...,\n",
    "# ))\n",
    "\n",
    "# your code here\n",
    "fail() # No Answer - remove if you provide an answer\n",
    "\n",
    "answer2.7"
   ]
  },
  {
   "cell_type": "code",
   "execution_count": null,
   "metadata": {
    "deletable": false,
    "editable": false,
    "nbgrader": {
     "cell_type": "code",
     "checksum": "31698f844d2c214ab9f69604ac263aac",
     "grade": true,
     "grade_id": "cell-94691cecfa804ef7",
     "locked": true,
     "points": 1,
     "schema_version": 3,
     "solution": false,
     "task": false
    }
   },
   "outputs": [],
   "source": [
    "test_2.7()"
   ]
  },
  {
   "cell_type": "markdown",
   "metadata": {
    "deletable": false,
    "editable": false,
    "nbgrader": {
     "cell_type": "markdown",
     "checksum": "1232cb2a1999eba482ab3c1a3edc6598",
     "grade": false,
     "grade_id": "cell-4fcdac642fb8fd5a",
     "locked": true,
     "schema_version": 3,
     "solution": false,
     "task": false
    }
   },
   "source": [
    "**Question 2.8**\n",
    "<br>{points: 1}\n",
    "\n",
    "What is your decision at the 5% significance level?\n",
    "\n",
    "**A.** Since the p-value is less than 0.05, we reject $H_0$. Therefore, we have statistical evidence to state that the current ad's mean dwell time is larger than the new ad's one.\n",
    "\n",
    "**B.** Since the p-value is less than 0.05, we fail to reject $H_0$. Therefore, we have statistical evidence to state that the new ad's mean dwell time is equal to the current ad's one.\n",
    "\n",
    "**C.** Since the p-value is less than 0.05, we reject $H_0$. Therefore, we have statistical evidence to state that the new ad's mean dwell time is larger than the current ad's one.\n",
    "\n",
    "**D.** Since the p-value is less than 0.05, we fail to reject $H_0$. Therefore, we have statistical evidence to state that the new ad's mean dwell time is larger than the current ad's one.\n",
    "\n",
    "*Assign your answer to an object called `answer2.8`. Your answer should be one of `\"A\"`, `\"B\"`, `\"C\"`, or `\"D\"` surrounded by quotes.*"
   ]
  },
  {
   "cell_type": "code",
   "execution_count": null,
   "metadata": {
    "deletable": false,
    "nbgrader": {
     "cell_type": "code",
     "checksum": "39b191519ecd2aa34946cced9414b504",
     "grade": false,
     "grade_id": "cell-4653a4ce9cb70b1a",
     "locked": false,
     "schema_version": 3,
     "solution": true,
     "task": false
    }
   },
   "outputs": [],
   "source": [
    "# answer2.8 <- \n",
    "\n",
    "# your code here\n",
    "fail() # No Answer - remove if you provide an answer"
   ]
  },
  {
   "cell_type": "code",
   "execution_count": null,
   "metadata": {
    "deletable": false,
    "editable": false,
    "nbgrader": {
     "cell_type": "code",
     "checksum": "aec0edcbe12922d0c709aed471a8a0bf",
     "grade": true,
     "grade_id": "cell-b7bd2fe5340f9ce8",
     "locked": true,
     "points": 1,
     "schema_version": 3,
     "solution": false,
     "task": false
    }
   },
   "outputs": [],
   "source": [
    "test_2.8()"
   ]
  },
  {
   "cell_type": "markdown",
   "metadata": {
    "deletable": false,
    "editable": false,
    "nbgrader": {
     "cell_type": "markdown",
     "checksum": "f045dc591149316253e142df51e0bc8c",
     "grade": false,
     "grade_id": "cell-01f0d3ae44f7c00f",
     "locked": true,
     "schema_version": 3,
     "solution": false,
     "task": false
    }
   },
   "source": [
    "**Question 2.9**\n",
    "<br>{points: 1}\n",
    "\n",
    "Alternatively to using asymptotic approximation, one could use bootstrapping to test the equality of the parameters of two populations. Using 1000 replications, test the hypothesis $H_0: \\mu_{current}=\\mu_{new}$ vs $H_0: \\mu_{current}<\\mu_{new}$.\n",
    "\n",
    "*Store the result in an object named `tiktok_bootstrap_results`. Your answer should be a tibble with the observed test statistic, and the bootstrap p-value estimate.*"
   ]
  },
  {
   "cell_type": "code",
   "execution_count": null,
   "metadata": {
    "deletable": false,
    "nbgrader": {
     "cell_type": "code",
     "checksum": "8e004ab7de90300fe3b181af3105c729",
     "grade": false,
     "grade_id": "cell-e524dde54936450d",
     "locked": false,
     "schema_version": 3,
     "solution": true,
     "task": false
    }
   },
   "outputs": [],
   "source": [
    "set.seed(10)\n",
    "\n",
    "# your code here\n",
    "fail() # No Answer - remove if you provide an answer\n",
    "\n",
    "tiktok_bootstrap_results"
   ]
  },
  {
   "cell_type": "code",
   "execution_count": null,
   "metadata": {
    "deletable": false,
    "editable": false,
    "nbgrader": {
     "cell_type": "code",
     "checksum": "1508d5a12f4544fb23dc3b414184288c",
     "grade": true,
     "grade_id": "cell-45f59d4b761b1880",
     "locked": true,
     "points": 1,
     "schema_version": 3,
     "solution": false,
     "task": false
    }
   },
   "outputs": [],
   "source": [
    "test_2.9()"
   ]
  },
  {
   "cell_type": "markdown",
   "metadata": {
    "deletable": false,
    "editable": false,
    "nbgrader": {
     "cell_type": "markdown",
     "checksum": "03e5be230c9461aa3ec95755672290ae",
     "grade": false,
     "grade_id": "cell-0e6dc2486456debb",
     "locked": true,
     "schema_version": 3,
     "solution": false,
     "task": false
    }
   },
   "source": [
    "## 3. Inferential Implications of Early Stopping in Hypothesis Testing\n",
    "\n",
    "Let us reconsider the TikTok ad example. In practice, the company testing the ads wants to present the new ad to all users as soon as possible, given that the new ad is superior. For example, imagine the company decided to conduct a balanced A/B test with 5000 users for each ad, in other words, $n_{\\text{new}}=n_{\\text{current}}=5000$. Now, suppose that 4000 users have watched the current ad and 4000 users have watched the new ad, and the dwell time of the new ad is 90% higher. Does the company really need to wait until 5000 users? Wouldn't it be better for the company to start using the new ad right away and start profiting more? This is called early stopping (because the test would be stopping earlier than planned). \n",
    "\n",
    "But how early? What if, instead of 4000 users for each ad, the company had observed only 3000? Would that be ok to stop? What about 500? 100? 50? 10? How about the company keeps monitoring the test statistic after each view of the ads? \n",
    "\n",
    "In this part, we are going to explore the consequences of online monitoring and early stopping. We'll explore more in the tutorial.\n"
   ]
  },
  {
   "cell_type": "markdown",
   "metadata": {
    "deletable": false,
    "editable": false,
    "nbgrader": {
     "cell_type": "markdown",
     "checksum": "90968d7a2a268752bded932b9eddd3b1",
     "grade": false,
     "grade_id": "cell-bbb063d5681a5acb",
     "locked": true,
     "schema_version": 3,
     "solution": false,
     "task": false
    }
   },
   "source": [
    "Suppose that initially they plan to run a balanced experiment with the sample size per treatment (ad watched) of 500, i.e., $n_\\text{current} = n_\\text{new} = 500$. Nonetheless, in terms of early stopping, the team would collect the data **gradually** for both groups and they will stop the experiment **once they find a significant result** (i.e., $p\\text{-value} < \\alpha$, where $\\alpha$ is the significance level). "
   ]
  },
  {
   "cell_type": "markdown",
   "metadata": {
    "deletable": false,
    "editable": false,
    "nbgrader": {
     "cell_type": "markdown",
     "checksum": "470a2564382385347b18445ef3b796e0",
     "grade": false,
     "grade_id": "cell-f43c63208b4709e3",
     "locked": true,
     "schema_version": 3,
     "solution": false,
     "task": false
    }
   },
   "source": [
    "**Question 3.0**\n",
    "<br>{points: 1}\n",
    "\n",
    "Suppose that after only ten users watched each ad, the company decided to peek at the test statistic and found the difference to be significant. Therefore they rejected $H_0$ and stopped the experiment. True or false:\n",
    "\n",
    "> The problem with this scenario is that 10 is a fairly small sample size, which considerably hinders the sensibility of the test to detect if there's a difference. In addition, for a sample of size 10, the probability of Type I Error is very high. Therefore, the company should not rely on this result and stop the experiment. \n",
    "\n",
    "\n",
    "*Assign your answer to an object called answer3.0. Your answer should be either \"true\" or \"false\", surrounded by quotes.*"
   ]
  },
  {
   "cell_type": "code",
   "execution_count": null,
   "metadata": {
    "deletable": false,
    "nbgrader": {
     "cell_type": "code",
     "checksum": "86e64e245fa100571b766f8fa5a5fb46",
     "grade": false,
     "grade_id": "cell-f7a88a689da2fe81",
     "locked": false,
     "schema_version": 3,
     "solution": true,
     "task": false
    }
   },
   "outputs": [],
   "source": [
    "# answer3.0 <- \n",
    "\n",
    "# your code here\n",
    "fail() # No Answer - remove if you provide an answer"
   ]
  },
  {
   "cell_type": "code",
   "execution_count": null,
   "metadata": {
    "deletable": false,
    "editable": false,
    "nbgrader": {
     "cell_type": "code",
     "checksum": "d808c2d367a7e2ba234e36289371b696",
     "grade": true,
     "grade_id": "cell-46f599bbec2b5254",
     "locked": true,
     "points": 1,
     "schema_version": 3,
     "solution": false,
     "task": false
    }
   },
   "outputs": [],
   "source": [
    "test_3.0()"
   ]
  },
  {
   "cell_type": "markdown",
   "metadata": {
    "deletable": false,
    "editable": false,
    "nbgrader": {
     "cell_type": "markdown",
     "checksum": "83b7acefc5c8978e4a17ae1fe2922c0f",
     "grade": false,
     "grade_id": "cell-c75f59a0dcf09528",
     "locked": true,
     "schema_version": 3,
     "solution": false,
     "task": false
    }
   },
   "source": [
    "In the next few exercises, we will study how the $p$-values evolve as we increase the sample size per treatment until getting to $n_\\text{current} = n_\\text{new} = 500$. We prepared a function for you that performs a two-sample $t$-test beginning 10 experimental units per treatment group (ad watched), then it gradually increases the data collection by `sample_increase_step` until getting to `n` in each treatment group (equal sample size per treatment) for a single experiment. \n",
    "\n",
    "For example, if `sample_increase_step` is 20, and `n=500`, the function will:\n",
    "1. draw a sample of 10 units;\n",
    "2. perform the two-sample t-test;\n",
    "3. draw another 20 units and perform the two-sample t-test now with all 30 units drawn; \n",
    "4. draw another 20 units and perform the two-sample t-test now with all 50 units drawn; \n",
    "5. draw another 20 units and perform the two-sample t-test now with all 70 units drawn; \n",
    "$$\n",
    "\\vdots\\quad\\quad\\quad\\quad\\quad\\quad\\quad\\quad\\quad\\quad\\quad\\quad\\quad\\quad\\quad\\quad\\quad\\quad\\quad\\quad\\quad\\quad\\quad\\quad\\quad\\quad\\quad\\quad\\quad\\quad\\quad\\quad\\quad\n",
    "$$\n",
    "and so on, until the total units drawn is 500.\n",
    "\n",
    "The function returns a tibble that has two columns:\n",
    "\n",
    "- `inc_sample_size`: the final sample size per group for which the $t$-test is performed.\n",
    "- `p_value`: $p$-value from performing a given $t$-test."
   ]
  },
  {
   "cell_type": "code",
   "execution_count": null,
   "metadata": {
    "deletable": false,
    "editable": false,
    "nbgrader": {
     "cell_type": "code",
     "checksum": "cf9ba5c4197c8a2bb4ef6eb0aa805c2e",
     "grade": false,
     "grade_id": "cell-a1fc35871231916c",
     "locked": true,
     "schema_version": 3,
     "solution": false,
     "task": false
    }
   },
   "outputs": [],
   "source": [
    "# Two-sample t-test for tracking p-values by incremental sample sizes until getting to n.\n",
    "\n",
    "# @param n (numeric): Initially planned sample size for each group, n = n_current = n_new.\n",
    "# @param d_0 (numeric): effect size.\n",
    "# @param sd_current (numeric): Population standard deviation for current ad.\n",
    "# @param sd_new (numeric): Population standard deviation for new ad.\n",
    "# @param sample_increase_step (numeric): Sample size increment.\n",
    "\n",
    "# @return p.value.df: A tibble that has 2 columns:\n",
    "# inc_sample_size (increasing sample size) and p_value (p-value from performing a two-sample t-test).\n",
    "\n",
    "incremental_t_test <- function(n, d_0, sd_current, sd_new, sample_increase_step) {\n",
    "  sample_current <- rnorm(n, mean = 4, sd = sd_current)\n",
    "  sample_new <- rnorm(n, mean = 4 + d_0, sd = sd_new)\n",
    "\n",
    "  p.value.df <- tibble(\n",
    "    inc_sample_size = rep(0, 1 + (n-10) / sample_increase_step),\n",
    "    p_value = rep(0, 1 + (n-10) / sample_increase_step)\n",
    "  )\n",
    "\n",
    "  current_sample_size <- 10\n",
    "  \n",
    "  for (i in 1:nrow(p.value.df))\n",
    "  {\n",
    "    t_test_results <- t.test(sample_new[1:current_sample_size], sample_current[1:current_sample_size],\n",
    "      var.equal = TRUE,\n",
    "      alternative = \"greater\"                      \n",
    "    )\n",
    "    p.value.df[i, \"p_value\"] <- as_tibble(t_test_results$p.value)\n",
    "    p.value.df[i, \"inc_sample_size\"] <- current_sample_size\n",
    "    current_sample_size <- current_sample_size + sample_increase_step\n",
    "  }\n",
    "\n",
    "  return(p.value.df)\n",
    "}\n"
   ]
  },
  {
   "cell_type": "markdown",
   "metadata": {
    "deletable": false,
    "editable": false,
    "nbgrader": {
     "cell_type": "markdown",
     "checksum": "ff43af0f74e55f68bd45161a63a5bde8",
     "grade": false,
     "grade_id": "cell-b13993a85177eb2e",
     "locked": true,
     "schema_version": 3,
     "solution": false,
     "task": false
    }
   },
   "source": [
    "**Question 3.1**\n",
    "<br>{points: 1}\n",
    "\n",
    "Let's focus on the case where there is no difference in the dwell time means for the current and new ads. \n",
    "The ad company will now start testing the new ad. The process will be this:\n",
    "\n",
    "1. For every 60 users, the company will assign the current ad to 30, and the new ad to 30;\n",
    "2. Then, the company conduct the hypothesis test. \n",
    "3. The company will repeat step 1 and 2 until $n = 1000$ users have watched each of the ads.\n",
    "\n",
    "Use the `incremental_t_test` function to conduct the company's experiment. \n",
    "\n",
    "*Save the result in an object called `answer3.1`. Your answer should be a tibble with two columns: `inc_sample_size`, and `p_value`.*"
   ]
  },
  {
   "cell_type": "code",
   "execution_count": null,
   "metadata": {
    "deletable": false,
    "nbgrader": {
     "cell_type": "code",
     "checksum": "20063171826806892396357786b04b58",
     "grade": false,
     "grade_id": "cell-d35500ae42606372",
     "locked": false,
     "schema_version": 3,
     "solution": true,
     "task": false
    }
   },
   "outputs": [],
   "source": [
    "set.seed(28) # do not change this.\n",
    "\n",
    "#answer3.1 <- \n",
    "#    incremental_t_test(n = ..., d_0 = ..., sample_increase_step = ..., sd_current = 8, sd_new = 8)\n",
    "\n",
    "# your code here\n",
    "fail() # No Answer - remove if you provide an answer\n",
    "\n",
    "answer3.1"
   ]
  },
  {
   "cell_type": "code",
   "execution_count": null,
   "metadata": {
    "deletable": false,
    "editable": false,
    "nbgrader": {
     "cell_type": "code",
     "checksum": "e354d125e04e3bda9e9c03021eacf28a",
     "grade": true,
     "grade_id": "cell-10bc0e2c6b493c38",
     "locked": true,
     "points": 1,
     "schema_version": 3,
     "solution": false,
     "task": false
    }
   },
   "outputs": [],
   "source": [
    "test_3.1()"
   ]
  },
  {
   "cell_type": "markdown",
   "metadata": {
    "deletable": false,
    "editable": false,
    "nbgrader": {
     "cell_type": "markdown",
     "checksum": "966194b97fc27b13271ff658753766fb",
     "grade": false,
     "grade_id": "cell-9048254aa38b5ce0",
     "locked": true,
     "schema_version": 3,
     "solution": false,
     "task": false
    }
   },
   "source": [
    "**Question 3.2**\n",
    "<br>{points: 1}\n",
    "\n",
    "Using the data stored in `answer3.1`, plot the $p$-value sequence as a **line** with the incremental sample size on the $x$-axis and $p$-value on the $y$-axis. Add a dashed horizontal red line that indicates a threshold of the significance level $\\alpha = 0.05$. The `ggplot()` object's name will be `dwell_time_pvalue_evolution`.\n",
    "\n",
    "*Fill out those parts indicated with `...`, uncomment the corresponding code in the cell below, and run it.*"
   ]
  },
  {
   "cell_type": "code",
   "execution_count": null,
   "metadata": {
    "deletable": false,
    "nbgrader": {
     "cell_type": "code",
     "checksum": "651195b83c3ef330bb836da8fab0c1de",
     "grade": false,
     "grade_id": "cell-fc5c07b5db1c2072",
     "locked": false,
     "schema_version": 3,
     "solution": true,
     "task": false
    }
   },
   "outputs": [],
   "source": [
    "# dwell_time_pvalue_evolution <- \n",
    "#   answer3.1 %>%\n",
    "#   ggplot() +\n",
    "#   geom_line(aes(x = ..., y = ...)) +\n",
    "#   theme(\n",
    "#     text = element_text(size = 18),\n",
    "#     plot.title = element_text(face = \"bold\"),\n",
    "#     axis.title = element_text(face = \"bold\")\n",
    "#   ) +\n",
    "#   ggtitle(\"Evolution of p-values in a Single Experiment by Increasing Data Collection\") +\n",
    "#   ylab(\"p-value\") +\n",
    "#   xlab(\"Sample Size\") +\n",
    "#   geom_hline(\n",
    "#     yintercept = ...,\n",
    "#     colour = \"red\",\n",
    "#     linetype = \"twodash\"\n",
    "#   ) +\n",
    "#   coord_cartesian(ylim = c(0, 1)) +\n",
    "#   scale_y_continuous(breaks = seq(0, 1, by = 0.05))\n",
    "\n",
    "\n",
    "# your code here\n",
    "fail() # No Answer - remove if you provide an answer\n",
    "\n",
    "dwell_time_pvalue_evolution"
   ]
  },
  {
   "cell_type": "code",
   "execution_count": null,
   "metadata": {
    "deletable": false,
    "editable": false,
    "nbgrader": {
     "cell_type": "code",
     "checksum": "f7973f345b92a06a17c6dc8c87a2a07e",
     "grade": true,
     "grade_id": "cell-40525ca9d0396d4c",
     "locked": true,
     "points": 1,
     "schema_version": 3,
     "solution": false,
     "task": false
    }
   },
   "outputs": [],
   "source": [
    "test_3.2()"
   ]
  },
  {
   "cell_type": "markdown",
   "metadata": {},
   "source": [
    "**Question 3.3**\n",
    "<br>{points: 1}\n",
    "\n",
    "Suppose you want to implement an early stopping (before reaching the maximum sample size of `n = 1000` experimental units per treatment). To save time and resources allocated for the A/B testing, the company initially decided to peek every **60 users** (30 for each ad) during the experiment (i.e., each row in `dwell_time_evolution`). Using a significance level $\\alpha = 0.05$, you would stop the experiment as soon as you find a significant result. \n",
    "\n",
    "Given the results in **Question 3.2**, the company would have stopped the experiment when 550 users had watched each ad. What error, if any, is the company committing? \n",
    "\n",
    "**A.** No error.\n",
    "\n",
    "**B.** Type I Error.\n",
    "\n",
    "**C.** Type II Error.\n",
    "\n",
    "*Assign your answer to an object called `answer3.3`. Your answer should be one of `\"A\"`, `\"B\"`, or `\"C\"` surrounded by quotes.*"
   ]
  },
  {
   "cell_type": "code",
   "execution_count": null,
   "metadata": {
    "deletable": false,
    "nbgrader": {
     "cell_type": "code",
     "checksum": "7613041143d3aab09b6422c26c985d4c",
     "grade": false,
     "grade_id": "cell-e1144dfce0fb0091",
     "locked": false,
     "schema_version": 3,
     "solution": true,
     "task": false
    }
   },
   "outputs": [],
   "source": [
    "# answer3.3 <- \n",
    "\n",
    "# your code here\n",
    "fail() # No Answer - remove if you provide an answer"
   ]
  },
  {
   "cell_type": "code",
   "execution_count": null,
   "metadata": {
    "deletable": false,
    "editable": false,
    "nbgrader": {
     "cell_type": "code",
     "checksum": "667473f1a6e40173a9e4f50ccaf11a86",
     "grade": true,
     "grade_id": "cell-78a961a44fb63cee",
     "locked": true,
     "points": 1,
     "schema_version": 3,
     "solution": false,
     "task": false
    }
   },
   "outputs": [],
   "source": [
    "test_3.3()"
   ]
  },
  {
   "cell_type": "markdown",
   "metadata": {
    "deletable": false,
    "editable": false,
    "nbgrader": {
     "cell_type": "markdown",
     "checksum": "e55dd1a1d985d62be3d2781ef658c972",
     "grade": false,
     "grade_id": "cell-74eb8ff6f774a3d9",
     "locked": true,
     "schema_version": 3,
     "solution": false,
     "task": false
    }
   },
   "source": [
    "**Question 3.4**\n",
    "<br>{points: 1}\n",
    "\n",
    "Since the company is testing the hypothesis at every **60 users** (30 for each ad) during the experiment, the company is conducting 34 hypothesis tests, and they need to reject only once to conclude that there's a difference. Intuitively, we would expect that the probability of wrongly rejecting $H_0$ would be inflated (think about it!). Let's see if that's the case.  \n",
    "\n",
    "\n",
    "In the code below, we performed this experiment 100 times.  Count how many times the company would wrongly reject $H_0$ by following this strategy. Compare it with the expected number of rejections given the significance level $\\alpha = 0.05$. \n",
    "\n",
    "*Assign your answer to an object called `answer3.4`. Your answer should be a tibble with two columns: `n_rejections` and `expected_n_rejections`.*"
   ]
  },
  {
   "cell_type": "code",
   "execution_count": null,
   "metadata": {
    "deletable": false,
    "editable": false,
    "nbgrader": {
     "cell_type": "code",
     "checksum": "81187d51d7cd7b25ce2657d849b108e1",
     "grade": false,
     "grade_id": "cell-16df4d1d8d3d08e1",
     "locked": true,
     "schema_version": 3,
     "solution": false,
     "task": false
    }
   },
   "outputs": [],
   "source": [
    "set.seed(12)\n",
    "\n",
    "### Run this before continuing\n",
    "multiple_times_sequential_tests <- \n",
    "    tibble(experiment = 1:100) %>% \n",
    "    mutate(seq_test = map(.x = experiment, \n",
    "                          .f = function(x) incremental_t_test(n = 1000, d_0 = 0, sample_increase_step = 30, sd_current = 8, sd_new = 8)))\n"
   ]
  },
  {
   "cell_type": "code",
   "execution_count": null,
   "metadata": {
    "deletable": false,
    "nbgrader": {
     "cell_type": "code",
     "checksum": "fb150d307c9f0a889aaf7de403810491",
     "grade": false,
     "grade_id": "cell-42e304128c6172ac",
     "locked": false,
     "schema_version": 3,
     "solution": true,
     "task": false
    }
   },
   "outputs": [],
   "source": [
    "#answer3.4 <- ...\n",
    "\n",
    "# your code here\n",
    "fail() # No Answer - remove if you provide an answer\n",
    "                            \n",
    "answer3.4"
   ]
  },
  {
   "cell_type": "code",
   "execution_count": null,
   "metadata": {
    "deletable": false,
    "editable": false,
    "nbgrader": {
     "cell_type": "code",
     "checksum": "ea113e44a3b2539fc105d39dcfd8a8f4",
     "grade": true,
     "grade_id": "cell-d1cd640149ad9173",
     "locked": true,
     "points": 1,
     "schema_version": 3,
     "solution": false,
     "task": false
    }
   },
   "outputs": [],
   "source": [
    "test_3.4()"
   ]
  },
  {
   "cell_type": "markdown",
   "metadata": {
    "deletable": false,
    "editable": false,
    "nbgrader": {
     "cell_type": "markdown",
     "checksum": "2724bf11baa4918a278b3d74e3429e00",
     "grade": false,
     "grade_id": "cell-975e8ae738046922",
     "locked": true,
     "schema_version": 3,
     "solution": false,
     "task": false
    }
   },
   "source": [
    "**Question 3.5**\n",
    "<br>{points: 1}\n",
    "\n",
    "Select the right option to complete the sentence below:\n",
    "\n",
    "> *With the strategy used by the company, the probability of Type I error is approximately ... the specified one.* \n",
    "\n",
    "**A.** equal to\n",
    "\n",
    "**B.** 3 times lower than\n",
    "\n",
    "**C.** 5 times lower than\n",
    "\n",
    "**D.** 3 times higher than\n",
    "\n",
    "**E.** 5 times higher than\n",
    "\n",
    "*Assign your answer to an object called `answer3.5`. Your answer should be one of `\"A\"`, `\"B\"`, `\"C\"`, `\"D\"`,  or `\"E\"` surrounded by quotes.*"
   ]
  },
  {
   "cell_type": "code",
   "execution_count": null,
   "metadata": {
    "deletable": false,
    "nbgrader": {
     "cell_type": "code",
     "checksum": "78138f3e20f5c932c10f84d6b297c4be",
     "grade": false,
     "grade_id": "cell-79c91d3bee9b8207",
     "locked": false,
     "schema_version": 3,
     "solution": true,
     "task": false
    }
   },
   "outputs": [],
   "source": [
    "#answer3.5 <- \"\"\n",
    "\n",
    "# your code here\n",
    "fail() # No Answer - remove if you provide an answer"
   ]
  },
  {
   "cell_type": "code",
   "execution_count": null,
   "metadata": {
    "deletable": false,
    "editable": false,
    "nbgrader": {
     "cell_type": "code",
     "checksum": "1505f2b6758f53dcb6182f321c397fed",
     "grade": true,
     "grade_id": "cell-cbd492b554a7a745",
     "locked": true,
     "points": 1,
     "schema_version": 3,
     "solution": false,
     "task": false
    }
   },
   "outputs": [],
   "source": [
    "test_3.5()"
   ]
  }
 ],
 "metadata": {
  "jupytext": {
   "formats": "ipynb,Rmd"
  },
  "kernelspec": {
   "display_name": "R",
   "language": "R",
   "name": "ir"
  },
  "language_info": {
   "codemirror_mode": "r",
   "file_extension": ".r",
   "mimetype": "text/x-r-source",
   "name": "R",
   "pygments_lexer": "r",
   "version": "4.1.0"
  }
 },
 "nbformat": 4,
 "nbformat_minor": 4
}
